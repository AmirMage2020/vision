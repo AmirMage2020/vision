{
 "cells": [
  {
   "cell_type": "code",
   "execution_count": 10,
   "metadata": {},
   "outputs": [],
   "source": [
    "import numpy as np\n",
    "import pandas as pd\n",
    "from tqdm import tqdm\n",
    "\n",
    "from preprocessing.user_data import User\n",
    "from preprocessing.symptom_dates import get_symptom_dates"
   ]
  },
  {
   "cell_type": "markdown",
   "metadata": {},
   "source": [
    "## Load COVID-19-Wearables dataset"
   ]
  },
  {
   "cell_type": "code",
   "execution_count": 11,
   "metadata": {},
   "outputs": [
    {
     "name": "stderr",
     "output_type": "stream",
     "text": [
      "100%|██████████| 24/24 [00:15<00:00,  1.56it/s]\n"
     ]
    }
   ],
   "source": [
    "# get a list of user ids\n",
    "user_ids = get_symptom_dates().index.to_list()\n",
    "\n",
    "users = []\n",
    "for user_id in tqdm(user_ids):\n",
    "    user = User(\n",
    "        user_id,\n",
    "        sampling_rule=\"1H\",\n",
    "        aggregate=\"mean\",\n",
    "        load_steps=False,\n",
    "        load_sleep=False\n",
    "    )\n",
    "    users.append(user.to_dict())"
   ]
  },
  {
   "cell_type": "code",
   "execution_count": 12,
   "metadata": {},
   "outputs": [],
   "source": [
    "SLIDING_WINDOW_SIZE = 14 # days\n",
    "RECOVERY_PERIOD = pd.Timedelta(40, unit=\"D\") # days\n",
    "INTERVAL = 1 # days\n",
    "\n",
    "def create_sliding_window_splits(hr, labels, symptom_date):\n",
    "\n",
    "    # print(hr.shape)\n",
    "    series_length = (hr.index[-1] - hr.index[0]).days\n",
    "    # print(series_length)\n",
    "\n",
    "    first_date = hr.index[0]\n",
    "    sliced_hrs = []\n",
    "    sliced_labels = []\n",
    "\n",
    "    for start_idx in range(0, series_length - 30, INTERVAL):\n",
    "        \n",
    "        # create time period\n",
    "        start_date = first_date + pd.Timedelta(start_idx, unit=\"D\")\n",
    "        end_date = start_date + pd.Timedelta(SLIDING_WINDOW_SIZE, unit=\"D\")\n",
    "\n",
    "        # print(start_date, end_date)\n",
    "        # print(start_date, end_date)\n",
    "\n",
    "        if end_date > symptom_date and end_date < symptom_date + RECOVERY_PERIOD:\n",
    "            continue\n",
    "\n",
    "        # create slices from sliding window\n",
    "        hr_slice = hr[start_date:end_date].values\n",
    "        label_slice = labels[start_date:end_date].values\n",
    "\n",
    "        # if slice contains a positive label at any time position, assign a positive labels to the whole slice\n",
    "        if label_slice.any():\n",
    "            label = 1\n",
    "        else:\n",
    "            label = 0\n",
    "\n",
    "        sliced_hrs.append(hr_slice.squeeze())\n",
    "        sliced_labels.append(label)\n",
    "    \n",
    "    return sliced_hrs, sliced_labels\n"
   ]
  },
  {
   "cell_type": "code",
   "execution_count": 13,
   "metadata": {},
   "outputs": [
    {
     "name": "stdout",
     "output_type": "stream",
     "text": [
      "(9, 337)\n"
     ]
    }
   ],
   "source": [
    "user = users[0]\n",
    "\n",
    "\n",
    "\n",
    "hrs, labels = create_sliding_window_splits(user[\"hr\"], user[\"target\"], user[\"symptom_date\"])\n",
    "\n",
    "print(np.array(hrs).shape)"
   ]
  },
  {
   "cell_type": "code",
   "execution_count": 14,
   "metadata": {},
   "outputs": [
    {
     "name": "stdout",
     "output_type": "stream",
     "text": [
      "(817, 337) (817,)\n",
      "Positive: 266, negative: 551\n"
     ]
    }
   ],
   "source": [
    "X = []\n",
    "y = []\n",
    "\n",
    "for user in users:\n",
    "    hrs, labels = create_sliding_window_splits(user[\"hr\"], user[\"target\"], user[\"symptom_date\"])\n",
    "\n",
    "    X.extend(hrs)\n",
    "    y.extend(labels)\n",
    "    # X.append(np.array(hrs))\n",
    "    # y.append(np.array(labels))\n",
    "\n",
    "X = np.array(X, dtype=np.int32)\n",
    "y = np.array(y, dtype=np.int32)\n",
    "\n",
    "print(X.shape, y.shape)\n",
    "print(f\"Positive: {np.sum(y)}, negative: {y.shape[0] - np.sum(y)}\")\n"
   ]
  },
  {
   "cell_type": "code",
   "execution_count": 15,
   "metadata": {},
   "outputs": [
    {
     "name": "stdout",
     "output_type": "stream",
     "text": [
      "612 205\n",
      "Train positive: 206, negative: 406\n",
      "Test positive: 60, negative: 145\n"
     ]
    }
   ],
   "source": [
    "from sklearn.model_selection import train_test_split\n",
    "\n",
    "# training and test split\n",
    "X_train, X_test, y_train, y_test = train_test_split(X, y)\n",
    "print(len(X_train), len(X_test))\n",
    "\n",
    "print(f\"Train positive: {np.sum(y_train)}, negative: {y_train.shape[0] - np.sum(y_train)}\")\n",
    "print(f\"Test positive: {np.sum(y_test)}, negative: {y_test.shape[0] - np.sum(y_test)}\")"
   ]
  },
  {
   "cell_type": "markdown",
   "metadata": {},
   "source": [
    "## Classification"
   ]
  },
  {
   "cell_type": "code",
   "execution_count": 16,
   "metadata": {},
   "outputs": [],
   "source": [
    "from sklearn.metrics import accuracy_score, f1_score, recall_score, precision_score"
   ]
  },
  {
   "cell_type": "markdown",
   "metadata": {},
   "source": [
    "### TimeSeriesForestClassifier"
   ]
  },
  {
   "cell_type": "code",
   "execution_count": 17,
   "metadata": {},
   "outputs": [
    {
     "name": "stdout",
     "output_type": "stream",
     "text": [
      "acc: 0.800000, prec: 0.771429, rec: 0.450000, f1: 0.568421\n"
     ]
    }
   ],
   "source": [
    "from sktime.classification.interval_based import TimeSeriesForestClassifier\n",
    "\n",
    "classifier = TimeSeriesForestClassifier()\n",
    "classifier.fit(X_train, y_train)\n",
    "y_pred = classifier.predict(X_test)\n",
    "\n",
    "acc = accuracy_score(y_test, y_pred)\n",
    "prc = precision_score(y_test, y_pred)\n",
    "rec = recall_score(y_test, y_pred)\n",
    "f1 = f1_score(y_test, y_pred)\n",
    "\n",
    "print(f\"acc: {acc:04f}, prec: {prc:04f}, rec: {rec:04f}, f1: {f1:04f}\")"
   ]
  },
  {
   "cell_type": "markdown",
   "metadata": {},
   "source": [
    "### HIVE-COTE 2.0"
   ]
  },
  {
   "cell_type": "code",
   "execution_count": 18,
   "metadata": {},
   "outputs": [
    {
     "name": "stdout",
     "output_type": "stream",
     "text": [
      "acc: 0.917073, prec: 0.877193, rec: 0.833333, f1: 0.854701\n"
     ]
    }
   ],
   "source": [
    "from sktime.classification.hybrid import HIVECOTEV2\n",
    "\n",
    "hc2 = HIVECOTEV2(time_limit_in_minutes=1)\n",
    "hc2.fit(X_train, y_train)\n",
    "y_pred = hc2.predict(X_test)\n",
    "\n",
    "acc = accuracy_score(y_test, y_pred)\n",
    "prc = precision_score(y_test, y_pred)\n",
    "rec = recall_score(y_test, y_pred)\n",
    "f1 = f1_score(y_test, y_pred)\n",
    "\n",
    "print(f\"acc: {acc:04f}, prec: {prc:04f}, rec: {rec:04f}, f1: {f1:04f}\")"
   ]
  }
 ],
 "metadata": {
  "kernelspec": {
   "display_name": "Python 3.9.13 ('vision')",
   "language": "python",
   "name": "python3"
  },
  "language_info": {
   "codemirror_mode": {
    "name": "ipython",
    "version": 3
   },
   "file_extension": ".py",
   "mimetype": "text/x-python",
   "name": "python",
   "nbconvert_exporter": "python",
   "pygments_lexer": "ipython3",
   "version": "3.9.13"
  },
  "orig_nbformat": 4,
  "vscode": {
   "interpreter": {
    "hash": "eb5f8d07ea8a4d02ba90007e919422b5c6669fe4a7931f686eddfce97a6b63f5"
   }
  }
 },
 "nbformat": 4,
 "nbformat_minor": 2
}
