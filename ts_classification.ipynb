{
 "cells": [
  {
   "cell_type": "code",
   "execution_count": 1,
   "metadata": {},
   "outputs": [],
   "source": [
    "import os\n",
    "import numpy as np\n",
    "import pandas as pd\n",
    "from tqdm import tqdm\n",
    "\n",
    "from preprocessing.user_data import User\n",
    "from preprocessing.symptom_dates import get_symptom_dates"
   ]
  },
  {
   "cell_type": "markdown",
   "metadata": {},
   "source": [
    "## Load COVID-19-Wearables dataset"
   ]
  },
  {
   "cell_type": "code",
   "execution_count": 2,
   "metadata": {},
   "outputs": [
    {
     "name": "stderr",
     "output_type": "stream",
     "text": [
      "100%|██████████| 24/24 [00:15<00:00,  1.56it/s]\n"
     ]
    }
   ],
   "source": [
    "# get a list of user ids\n",
    "user_ids = get_symptom_dates().index.to_list()\n",
    "\n",
    "users = []\n",
    "for user_id in tqdm(user_ids):\n",
    "    user = User(\n",
    "        user_id,\n",
    "        sampling_rule=\"1H\",\n",
    "        aggregate=\"mean\",\n",
    "        load_steps=False,\n",
    "        load_sleep=False\n",
    "    )\n",
    "    users.append(user.to_dict())"
   ]
  },
  {
   "cell_type": "code",
   "execution_count": 10,
   "metadata": {},
   "outputs": [],
   "source": [
    "SLIDING_WINDOW_SIZE = 20 # days\n",
    "RECOVERY_PERIOD = pd.Timedelta(40, unit=\"D\") # days\n",
    "INTERVAL = 1 # days\n",
    "\n",
    "def create_sliding_window_splits(hr, labels, symptom_date, end_cutoff: int = 30):\n",
    "\n",
    "    # print(hr.shape)\n",
    "    series_length = (hr.index[-1] - hr.index[0]).days\n",
    "    # print(series_length)\n",
    "\n",
    "    first_date = hr.index[0]\n",
    "    sliced_hrs = []\n",
    "    sliced_labels = []\n",
    "    sliced_indices = []\n",
    "\n",
    "    for start_idx in range(0, series_length - end_cutoff, INTERVAL):\n",
    "        \n",
    "        # create time period\n",
    "        start_date = first_date + pd.Timedelta(start_idx, unit=\"D\")\n",
    "        end_date = start_date + pd.Timedelta(SLIDING_WINDOW_SIZE, unit=\"D\")\n",
    "\n",
    "        # print(start_date, end_date)\n",
    "        # print(start_date, end_date)\n",
    "\n",
    "        if end_date > symptom_date and end_date < symptom_date + RECOVERY_PERIOD:\n",
    "            continue\n",
    "\n",
    "        # create slices from sliding window\n",
    "        hr_slice = hr[start_date:end_date].values\n",
    "        hr_index = hr[start_date:end_date].index\n",
    "        label_slice = labels[start_date:end_date].values\n",
    "\n",
    "        # if slice contains a positive label at any time position, assign a positive labels to the whole slice\n",
    "        if label_slice.any():\n",
    "            label = 1\n",
    "        else:\n",
    "            label = 0\n",
    "\n",
    "        sliced_hrs.append(hr_slice.squeeze())\n",
    "        sliced_labels.append(label)\n",
    "        sliced_indices.append(hr_index)\n",
    "    \n",
    "    return sliced_hrs, sliced_labels, sliced_indices\n"
   ]
  },
  {
   "cell_type": "code",
   "execution_count": 11,
   "metadata": {},
   "outputs": [
    {
     "name": "stdout",
     "output_type": "stream",
     "text": [
      "(9, 337)\n"
     ]
    }
   ],
   "source": [
    "user = users[0]\n",
    "\n",
    "\n",
    "\n",
    "hrs, labels, _ = create_sliding_window_splits(user[\"hr\"], user[\"target\"], user[\"symptom_date\"])\n",
    "\n",
    "print(np.array(hrs).shape)"
   ]
  },
  {
   "cell_type": "code",
   "execution_count": 12,
   "metadata": {},
   "outputs": [
    {
     "name": "stdout",
     "output_type": "stream",
     "text": [
      "(817, 337) (817,)\n",
      "Positive: 266, negative: 551\n"
     ]
    }
   ],
   "source": [
    "X = []\n",
    "y = []\n",
    "\n",
    "for user in users:\n",
    "    hrs, labels, _ = create_sliding_window_splits(user[\"hr\"], user[\"target\"], user[\"symptom_date\"])\n",
    "\n",
    "    X.extend(hrs)\n",
    "    y.extend(labels)\n",
    "    # X.append(np.array(hrs))\n",
    "    # y.append(np.array(labels))\n",
    "\n",
    "X = np.array(X, dtype=np.int32)\n",
    "y = np.array(y, dtype=np.int32)\n",
    "\n",
    "print(X.shape, y.shape)\n",
    "print(f\"Positive: {np.sum(y)}, negative: {y.shape[0] - np.sum(y)}\")\n"
   ]
  },
  {
   "cell_type": "code",
   "execution_count": 13,
   "metadata": {},
   "outputs": [
    {
     "name": "stdout",
     "output_type": "stream",
     "text": [
      "612 205\n",
      "Train positive: 201, negative: 411\n",
      "Test positive: 65, negative: 140\n"
     ]
    }
   ],
   "source": [
    "from sklearn.model_selection import train_test_split\n",
    "\n",
    "# training and test split\n",
    "X_train, X_test, y_train, y_test = train_test_split(X, y)\n",
    "print(len(X_train), len(X_test))\n",
    "\n",
    "print(f\"Train positive: {np.sum(y_train)}, negative: {y_train.shape[0] - np.sum(y_train)}\")\n",
    "print(f\"Test positive: {np.sum(y_test)}, negative: {y_test.shape[0] - np.sum(y_test)}\")"
   ]
  },
  {
   "cell_type": "markdown",
   "metadata": {},
   "source": [
    "## Classification"
   ]
  },
  {
   "cell_type": "code",
   "execution_count": 14,
   "metadata": {},
   "outputs": [],
   "source": [
    "from sklearn.metrics import accuracy_score, f1_score, recall_score, precision_score"
   ]
  },
  {
   "cell_type": "markdown",
   "metadata": {},
   "source": [
    "### TimeSeriesForestClassifier"
   ]
  },
  {
   "cell_type": "code",
   "execution_count": 15,
   "metadata": {},
   "outputs": [
    {
     "name": "stdout",
     "output_type": "stream",
     "text": [
      "acc: 0.819512, prec: 0.937500, rec: 0.461538, f1: 0.618557\n"
     ]
    }
   ],
   "source": [
    "from sktime.classification.interval_based import TimeSeriesForestClassifier\n",
    "\n",
    "classifier = TimeSeriesForestClassifier()\n",
    "classifier.fit(X_train, y_train)\n",
    "y_pred = classifier.predict(X_test)\n",
    "\n",
    "acc = accuracy_score(y_test, y_pred)\n",
    "prc = precision_score(y_test, y_pred)\n",
    "rec = recall_score(y_test, y_pred)\n",
    "f1 = f1_score(y_test, y_pred)\n",
    "\n",
    "print(f\"acc: {acc:04f}, prec: {prc:04f}, rec: {rec:04f}, f1: {f1:04f}\")"
   ]
  },
  {
   "cell_type": "markdown",
   "metadata": {},
   "source": [
    "### HIVE-COTE 2.0"
   ]
  },
  {
   "cell_type": "code",
   "execution_count": 16,
   "metadata": {},
   "outputs": [
    {
     "name": "stdout",
     "output_type": "stream",
     "text": [
      "acc: 0.912195, prec: 0.943396, rec: 0.769231, f1: 0.847458\n"
     ]
    }
   ],
   "source": [
    "from sktime.classification.hybrid import HIVECOTEV2\n",
    "\n",
    "hc2 = HIVECOTEV2(time_limit_in_minutes=1)\n",
    "hc2.fit(X_train, y_train)\n",
    "y_pred = hc2.predict(X_test)\n",
    "\n",
    "acc = accuracy_score(y_test, y_pred)\n",
    "prc = precision_score(y_test, y_pred)\n",
    "rec = recall_score(y_test, y_pred)\n",
    "f1 = f1_score(y_test, y_pred)\n",
    "\n",
    "print(f\"acc: {acc:04f}, prec: {prc:04f}, rec: {rec:04f}, f1: {f1:04f}\")"
   ]
  },
  {
   "cell_type": "markdown",
   "metadata": {},
   "source": [
    "## Test set evaluation"
   ]
  },
  {
   "cell_type": "code",
   "execution_count": 20,
   "metadata": {},
   "outputs": [
    {
     "name": "stderr",
     "output_type": "stream",
     "text": [
      "100%|██████████| 40/40 [09:43<00:00, 14.59s/it]\n"
     ]
    }
   ],
   "source": [
    "# get test data\n",
    "test_base_path = os.path.join(os.getcwd(), \"data\", \"tum_test_set\")\n",
    "test_files = os.listdir(test_base_path)\n",
    "\n",
    "# select classifier\n",
    "test_classifier = hc2\n",
    "\n",
    "predictions = {test_file.split(\".\")[0]: None for test_file in test_files}\n",
    "\n",
    "for test_file in tqdm(test_files):\n",
    "    # read data\n",
    "    df = pd.read_csv(os.path.join(test_base_path, test_file))\n",
    "\n",
    "    # set timeseries as index\n",
    "    df.set_index(\"timestamp\", inplace=True)\n",
    "    df.index = pd.to_datetime(df.index)\n",
    "\n",
    "    # resample data\n",
    "    # print(df)\n",
    "    test_series = df.resample(rule=\"1H\").mean()   \n",
    "\n",
    "    test_slices, _, test_indices = create_sliding_window_splits(test_series.heart_rate, test_series.heart_rate, symptom_date=test_series.index[-1], end_cutoff=0)\n",
    "\n",
    "    # slice_prediction_days = df.resample(rule=\"1D\").mean().index\n",
    "    # print(slice_prediction_days)\n",
    "   \n",
    "    slice_predictions = []\n",
    "    slice_days = []\n",
    "    \n",
    "    # print(test_slices.shape)\n",
    "\n",
    "    for test_slice, test_index in zip(test_slices, test_indices):\n",
    "        # predict label for slice\n",
    "        # print(test_slice[np.newaxis].shape)\n",
    "        test_prediction = test_classifier.predict(test_slice[np.newaxis])\n",
    "        test_date = test_index[-1].date()\n",
    "        \n",
    "        # store predictions\n",
    "        slice_predictions.append(test_prediction.item())\n",
    "        slice_days.append(test_date)\n",
    "\n",
    "    # print(slice_predictions)\n",
    "    # print(slice_days)\n",
    "\n",
    "    predictions[test_file.split(\".\")[0]] = {\n",
    "        \"dates\": slice_days, \n",
    "        \"predictions\": slice_predictions\n",
    "    }"
   ]
  },
  {
   "cell_type": "code",
   "execution_count": 22,
   "metadata": {},
   "outputs": [
    {
     "name": "stdout",
     "output_type": "stream",
     "text": [
      "000000000000000000000000000000000000000000000000000\n",
      "001000000000000000000000000000000000000000000000000\n",
      "000000000000000000000000000000000000000000000000000\n",
      "000000000000000000000000000000000000000000000000000\n",
      "000000000000000000000000000000000000000000000000000\n",
      "000000000000000000000000000000000000000000000000000\n",
      "000000000000000000000000000000000000\n",
      "000000000000000000000000000000000000000000000000000\n",
      "000000000000000000000010000000010000100000000000000\n",
      "0000000000000000000000000000000000000000000000000\n",
      "000000000000000000000000000000000000000000000000000\n",
      "000000000000000000000000010000000000000000000000000\n",
      "000000000000000000000000000000000000000000000000000\n",
      "00000000000000000000000000000000000\n",
      "000000000000000000000000000000000000000000000000\n",
      "000000000000000000000000000000000000000000000000000\n",
      "000000000000000000000\n",
      "000000000000000000000000000000000001000000000000000\n",
      "000000000000000000000000000000000000000000000000000\n",
      "000000000000000000000000000000000000000000000000000\n",
      "000000000000000000000000000000000000000000000000000\n",
      "000000000000000000000000000000000000100000000000000\n",
      "0000000000000000000000000000000000000000000\n",
      "001110110000000000000000000000000000000000000000000\n",
      "000000000000000000000000000000000000000000000000000\n",
      "000000000000000000000000000000000000000000000000000\n",
      "000000000000000000000100100111111111100000000000000\n",
      "000000000000000000000000000000000000000000000000000\n",
      "0000000100000000000000000\n",
      "000000000000000000000000000000000\n",
      "000000000000000000000000000000000000000000000000000\n",
      "000000000000000000000000000000000000000000000000000\n",
      "000000000000000000000000000010000000000000000000000\n",
      "000000000000000000000000000000000000000000000000000\n",
      "0000000000000000000000000000\n",
      "000000000000000000000000000000000000000000000000000\n",
      "000000000000000000000000000000000000000000000000000\n",
      "000000000000000000000000000000000000000000000000000\n",
      "000000000000000000000000000000000000000000000000000\n",
      "000000000000000000000000000000000000000000000000000\n"
     ]
    }
   ],
   "source": [
    "threshold = 2\n",
    "# iterate over predictions, set symptom onset dates after threshold-many consecutive positive dates\n",
    "\n",
    "onset_predictions = {}\n",
    "\n",
    "for case, test_dict in predictions.items():\n",
    "    \n",
    "    onset_date = None\n",
    "\n",
    "    labels = str(\"\".join([str(label) for label in test_dict[\"predictions\"]]))\n",
    "    print(labels)\n",
    "    \n",
    "    pos_idx = labels.find(\"1111\")\n",
    "\n",
    "    if pos_idx == -1:\n",
    "        pos_idx = labels.find(\"111\")\n",
    "        if pos_idx == -1:\n",
    "            pos_idx = labels.find(\"11\")\n",
    "            if pos_idx == -1:\n",
    "                pos_idx = labels.find(\"1\")\n",
    "    \n",
    "    if pos_idx != -1:\n",
    "        # infection detected\n",
    "        onset_date = test_dict[\"dates\"][pos_idx]\n",
    "\n",
    "    onset_predictions[case] = onset_date"
   ]
  },
  {
   "cell_type": "code",
   "execution_count": 30,
   "metadata": {},
   "outputs": [],
   "source": [
    "from datetime import datetime\n",
    "import csv\n",
    "with open('predictions.csv', 'w') as csv_file:  \n",
    "    writer = csv.writer(csv_file)\n",
    "    for key, value in onset_predictions.items():\n",
    "        if value is None:\n",
    "            continue\n",
    "        writer.writerow([key, value.strftime(\"%-d.%-m.%Y\")])"
   ]
  },
  {
   "cell_type": "code",
   "execution_count": 24,
   "metadata": {},
   "outputs": [
    {
     "name": "stdout",
     "output_type": "stream",
     "text": [
      "{'test_38': None, 'test_36': datetime.date(2020, 1, 17), 'test_8': None, 'test_32': None, 'test_37': None, 'test_10': None, 'test_23': None, 'test_7': None, 'test_17': datetime.date(2020, 2, 6), 'test_25': None, 'test_9': None, 'test_22': datetime.date(2020, 2, 9), 'test_11': None, 'test_18': None, 'test_14': None, 'test_35': None, 'test_33': None, 'test_26': datetime.date(2020, 2, 19), 'test_12': None, 'test_3': None, 'test_15': None, 'test_16': datetime.date(2020, 2, 20), 'test_28': None, 'test_20': datetime.date(2020, 1, 17), 'test_13': None, 'test_29': None, 'test_30': datetime.date(2020, 2, 11), 'test_39': None, 'test_4': datetime.date(2020, 2, 17), 'test_2': None, 'test_34': None, 'test_24': None, 'test_5': datetime.date(2020, 2, 12), 'test_6': None, 'test_19': None, 'test_27': None, 'test_21': None, 'test_40': None, 'test_1': None, 'test_31': None}\n"
     ]
    }
   ],
   "source": [
    "print(onset_predictions)"
   ]
  }
 ],
 "metadata": {
  "kernelspec": {
   "display_name": "Python 3.9.13 ('vision')",
   "language": "python",
   "name": "python3"
  },
  "language_info": {
   "codemirror_mode": {
    "name": "ipython",
    "version": 3
   },
   "file_extension": ".py",
   "mimetype": "text/x-python",
   "name": "python",
   "nbconvert_exporter": "python",
   "pygments_lexer": "ipython3",
   "version": "3.9.13"
  },
  "orig_nbformat": 4,
  "vscode": {
   "interpreter": {
    "hash": "eb5f8d07ea8a4d02ba90007e919422b5c6669fe4a7931f686eddfce97a6b63f5"
   }
  }
 },
 "nbformat": 4,
 "nbformat_minor": 2
}
