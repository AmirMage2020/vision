{
 "cells": [
  {
   "cell_type": "code",
   "execution_count": 1,
   "metadata": {},
   "outputs": [
    {
     "name": "stderr",
     "output_type": "stream",
     "text": [
      "2022-10-01 14:21:03.603781: W tensorflow/stream_executor/platform/default/dso_loader.cc:64] Could not load dynamic library 'libcudart.so.11.0'; dlerror: libcudart.so.11.0: cannot open shared object file: No such file or directory\n",
      "2022-10-01 14:21:03.603885: I tensorflow/stream_executor/cuda/cudart_stub.cc:29] Ignore above cudart dlerror if you do not have a GPU set up on your machine.\n"
     ]
    }
   ],
   "source": [
    "import pandas as pd\n",
    "import numpy as np\n",
    "import matplotlib.pyplot as plt\n",
    "\n",
    "from ydata_synthetic.synthesizers import ModelParameters\n",
    "from ydata_synthetic.preprocessing.timeseries.timeseries_processor import TimeSeriesDataProcessor\n",
    "from ydata_synthetic.synthesizers.timeseries import TimeGAN"
   ]
  },
  {
   "cell_type": "code",
   "execution_count": 2,
   "metadata": {},
   "outputs": [],
   "source": [
    "df = pd.read_csv('../data/tum_synthetic_training_data/train.csv')\n",
    "df_arr = [df[df['case']==case] for case in df['case'].unique()]\n"
   ]
  },
  {
   "cell_type": "code",
   "execution_count": 3,
   "metadata": {},
   "outputs": [
    {
     "name": "stdout",
     "output_type": "stream",
     "text": [
      "4849\n",
      "(5760, 2)\n"
     ]
    }
   ],
   "source": [
    "data = []\n",
    "for df_case in df_arr:\n",
    "    end_idx = 5760\n",
    "    while end_idx < df_case.shape[0]:\n",
    "        start_idx = end_idx - 5760\n",
    "        hr = df_case['heart_rate'][start_idx:end_idx].to_numpy()\n",
    "        so = df_case['symptom_onset'][start_idx:end_idx].to_numpy()\n",
    "        end_idx += 288\n",
    "        data.append(np.concatenate([hr[:, None], so[:, None]], axis=1))  \n",
    "print(len(data))\n",
    "print(data[0].shape)"
   ]
  },
  {
   "cell_type": "code",
   "execution_count": 4,
   "metadata": {},
   "outputs": [],
   "source": [
    "seq_len = 5760\n",
    "n_seq = 2\n",
    "hidden_dim=24\n",
    "gamma=1\n",
    "\n",
    "noise_dim=100\n",
    "dim=64\n",
    "batch_size=1\n",
    "\n",
    "log_step = 100\n",
    "learning_rate = 5e-4\n",
    "retrain=True\n",
    "\n",
    "gan_args = ModelParameters(batch_size=batch_size, lr=learning_rate, noise_dim=noise_dim, layers_dim=dim)\n"
   ]
  },
  {
   "cell_type": "code",
   "execution_count": 5,
   "metadata": {},
   "outputs": [
    {
     "name": "stderr",
     "output_type": "stream",
     "text": [
      "2022-10-01 14:21:39.848987: W tensorflow/stream_executor/platform/default/dso_loader.cc:64] Could not load dynamic library 'libcuda.so.1'; dlerror: libcuda.so.1: cannot open shared object file: No such file or directory\n",
      "2022-10-01 14:21:39.849197: W tensorflow/stream_executor/cuda/cuda_driver.cc:269] failed call to cuInit: UNKNOWN ERROR (303)\n",
      "2022-10-01 14:21:39.849287: I tensorflow/stream_executor/cuda/cuda_diagnostics.cc:156] kernel driver does not appear to be running on this host (MW-Thinkpad): /proc/driver/nvidia/version does not exist\n",
      "2022-10-01 14:21:39.899261: I tensorflow/core/platform/cpu_feature_guard.cc:193] This TensorFlow binary is optimized with oneAPI Deep Neural Network Library (oneDNN) to use the following CPU instructions in performance-critical operations:  AVX2 FMA\n",
      "To enable them in other operations, rebuild TensorFlow with the appropriate compiler flags.\n",
      "Emddeding network training:   0%|          | 0/10 [00:00<?, ?it/s]2022-10-01 14:21:56.836135: W tensorflow/core/framework/cpu_allocator_impl.cc:82] Allocation of 223441920 exceeds 10% of free system memory.\n",
      "2022-10-01 14:22:50.920647: W tensorflow/core/framework/cpu_allocator_impl.cc:82] Allocation of 223441920 exceeds 10% of free system memory.\n"
     ]
    }
   ],
   "source": [
    "if retrain:\n",
    "    synth = TimeGAN(model_parameters=gan_args, hidden_dim=hidden_dim, seq_len=seq_len, n_seq=n_seq, gamma=gamma)\n",
    "    synth.train(data, train_steps=10)\n",
    "    synth.save('synthesizer_hr.pkl')\n",
    "else:\n",
    "    synth = TimeGAN.load('synthesizer_hr.pkl')"
   ]
  },
  {
   "cell_type": "code",
   "execution_count": null,
   "metadata": {},
   "outputs": [],
   "source": [
    "synth_data = synth.sample(len(data))"
   ]
  }
 ],
 "metadata": {
  "kernelspec": {
   "display_name": "Python 3.8.13 ('make2')",
   "language": "python",
   "name": "python3"
  },
  "language_info": {
   "codemirror_mode": {
    "name": "ipython",
    "version": 3
   },
   "file_extension": ".py",
   "mimetype": "text/x-python",
   "name": "python",
   "nbconvert_exporter": "python",
   "pygments_lexer": "ipython3",
   "version": "3.8.13"
  },
  "orig_nbformat": 4,
  "vscode": {
   "interpreter": {
    "hash": "802f9d1fd41debec9d381f2b833b221f681e5c7ef0df53b6a5835228203ab23b"
   }
  }
 },
 "nbformat": 4,
 "nbformat_minor": 2
}
